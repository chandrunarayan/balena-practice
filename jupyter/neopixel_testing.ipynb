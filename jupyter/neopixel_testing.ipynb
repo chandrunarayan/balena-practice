{
 "cells": [
  {
   "cell_type": "code",
   "execution_count": 1,
   "id": "a71291a2-385a-486f-b610-db8d766d5e74",
   "metadata": {
    "tags": []
   },
   "outputs": [],
   "source": [
    "import board\n",
    "import neopixel\n",
    "from time import sleep"
   ]
  },
  {
   "cell_type": "code",
   "execution_count": 2,
   "id": "045b40d1-567f-40b9-b458-29c8f609273c",
   "metadata": {
    "tags": []
   },
   "outputs": [],
   "source": [
    "pixel_pin = board.D18\n",
    "num_pixels = 100\n",
    "ORDER = neopixel.RGB\n",
    "pixels = neopixel.NeoPixel(pixel_pin, num_pixels, \n",
    "                           brightness=0.1, auto_write=False,\n",
    "                           pixel_order=ORDER)"
   ]
  },
  {
   "cell_type": "code",
   "execution_count": 3,
   "id": "d84962a4-fe49-480a-93f5-83ac317ba051",
   "metadata": {
    "tags": []
   },
   "outputs": [],
   "source": [
    "pixels.fill((0,0,0))\n",
    "#print(pixels)\n",
    "pixels.show()\n",
    "sleep(2)\n",
    "pixels.fill((255,255,255))\n",
    "#print(pixels)\n",
    "pixels.show()\n",
    "sleep(2)"
   ]
  },
  {
   "cell_type": "code",
   "execution_count": 4,
   "id": "8ed6af04-7636-492d-9170-806293412335",
   "metadata": {
    "tags": []
   },
   "outputs": [],
   "source": [
    "pixels.fill((0,0,0))\n",
    "#print(pixels)\n",
    "pixels.show()\n",
    "sleep(2)\n",
    "pixels.fill((255,0,0))\n",
    "#print(pixels)\n",
    "pixels.show()\n",
    "sleep(2)\n",
    "pixels.fill((0,255,0))\n",
    "#print(pixels)\n",
    "pixels.show()\n",
    "sleep(2)\n",
    "pixels.fill((0,0,255))\n",
    "#print(pixels)\n",
    "pixels.show()\n",
    "sleep(2)\n",
    "pixels.fill((255,255,0))\n",
    "#print(pixels)\n",
    "pixels.show()\n",
    "sleep(2)\n",
    "pixels.fill((0,0,0))\n",
    "#print(pixels)\n",
    "pixels.show()\n",
    "sleep(2)"
   ]
  },
  {
   "cell_type": "code",
   "execution_count": 5,
   "id": "ab2c138d-474c-4a51-975a-ebf0f10493a0",
   "metadata": {
    "tags": []
   },
   "outputs": [],
   "source": [
    "for ii in range(3):\n",
    "    pixels.fill((0,0,0))\n",
    "    #print(pixels)\n",
    "    pixels.show()\n",
    "    sleep(2)\n",
    "    pixels.fill((0,255,255))\n",
    "    #print(pixels)\n",
    "    pixels.show()\n",
    "    sleep(2)\n",
    "pixels.fill((0,0,0))\n",
    "#print(pixels)\n",
    "pixels.show()"
   ]
  },
  {
   "cell_type": "code",
   "execution_count": 9,
   "id": "fd7e0e87-c751-4e1c-8f9e-3ee17995d8a5",
   "metadata": {
    "tags": []
   },
   "outputs": [],
   "source": [
    "for ii in range(100):\n",
    "    pixels.fill((0,0,0))\n",
    "    pixels[ii]=(255,0,255)\n",
    "    #print(pixels)\n",
    "    pixels.show()\n",
    "    #sleep(1)\n",
    "\n",
    "pixels.fill((0,0,0))\n",
    "#print(pixels)\n",
    "pixels.show()"
   ]
  },
  {
   "cell_type": "code",
   "execution_count": null,
   "id": "5aab6e86-f72e-4375-9814-5ec8d3ec7680",
   "metadata": {},
   "outputs": [],
   "source": []
  }
 ],
 "metadata": {
  "kernelspec": {
   "display_name": "Python 3 (ipykernel)",
   "language": "python",
   "name": "python3"
  },
  "language_info": {
   "codemirror_mode": {
    "name": "ipython",
    "version": 3
   },
   "file_extension": ".py",
   "mimetype": "text/x-python",
   "name": "python",
   "nbconvert_exporter": "python",
   "pygments_lexer": "ipython3",
   "version": "3.11.2"
  }
 },
 "nbformat": 4,
 "nbformat_minor": 5
}
