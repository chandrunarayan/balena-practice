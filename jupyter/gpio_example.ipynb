{
 "cells": [
  {
   "cell_type": "code",
   "execution_count": null,
   "id": "5bd7e6d7-d5ac-42db-9621-a02f7d5e02ab",
   "metadata": {},
   "outputs": [],
   "source": [
    "import RPi.GPIO as GPIO\n",
    "from time import sleep\n",
    "\n",
    "# Set GPIO mode: GPIO.BCM or GPIO.BOARD\n",
    "GPIO.setmode(GPIO.BOARD)\n",
    "GPIO.setwarnings(False)\n",
    "\n",
    "# GPIO pins list based on GPIO.BOARD\n",
    "#gpioList1 = [3,5,7,8,10,11,12,13,15]\n",
    "gpioList1 = [3, 15]\n",
    "#gpioList2 = [16,18,19,21,22,23,24,26]\n",
    "gpioList2 = [16, 26]\n",
    "\n",
    "# Set mode for each gpio pin\n",
    "GPIO.setup(gpioList1, GPIO.OUT)\n",
    "GPIO.setup(gpioList2, GPIO.OUT)\n",
    "\n",
    "while True:\n",
    "\t# Change gpio pins in list 1 from low to high and list 2 from high to low\n",
    "\tGPIO.output(gpioList1, 1)\n",
    "\tGPIO.output(gpioList2, 0)\n",
    "\tsleep(1)\n",
    "\n",
    "\t# Change gpio pin in list 1 from high to low and list 2 from low to high\n",
    "\tGPIO.output(gpioList1, 0)\n",
    "\tGPIO.output(gpioList2, 1)\n",
    "\tsleep(1)\n",
    "\n",
    "# Reset all gpio pin\n",
    "GPIO.cleanup()"
   ]
  },
  {
   "cell_type": "code",
   "execution_count": null,
   "id": "7a45e806-3961-44e9-9177-0f6ebaea5c2c",
   "metadata": {},
   "outputs": [],
   "source": []
  }
 ],
 "metadata": {
  "kernelspec": {
   "display_name": "Python 3 (ipykernel)",
   "language": "python",
   "name": "python3"
  },
  "language_info": {
   "codemirror_mode": {
    "name": "ipython",
    "version": 3
   },
   "file_extension": ".py",
   "mimetype": "text/x-python",
   "name": "python",
   "nbconvert_exporter": "python",
   "pygments_lexer": "ipython3",
   "version": "3.11.1"
  }
 },
 "nbformat": 4,
 "nbformat_minor": 5
}
