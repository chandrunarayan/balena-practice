{
 "cells": [
  {
   "cell_type": "code",
   "execution_count": 1,
   "id": "88e6cdeb-ce6a-4388-8ec8-191b96ca9465",
   "metadata": {},
   "outputs": [
    {
     "name": "stdout",
     "output_type": "stream",
     "text": [
      "python testimage filepath = /data/testimg_12022023135524.jpg\n",
      "os testimage filepath = /data/testimg_12022023135524.jpg\n"
     ]
    }
   ],
   "source": [
    "from datetime import datetime\n",
    "import os\n",
    "# datetime object containing current date and time\n",
    "now = datetime.now()\n",
    "#thisdate = today.strftime(\"%b-%d-%Y-%hr-%M\")\n",
    "thisdate = now.strftime(\"%d%m%Y%H%M%S\")\n",
    "testimgpath = f'/data/testimg_{thisdate}.jpg'\n",
    "print(f'python testimage filepath = {testimgpath}')\n",
    "os.environ['testimgpath'] = testimgpath\n",
    "!echo \"os testimage filepath = {testimgpath}\""
   ]
  },
  {
   "cell_type": "code",
   "execution_count": null,
   "id": "7a45e806-3961-44e9-9177-0f6ebaea5c2c",
   "metadata": {},
   "outputs": [],
   "source": [
    "!libcamera-hello --nopreview --list-cameras"
   ]
  },
  {
   "cell_type": "code",
   "execution_count": null,
   "id": "75737616-3780-4642-8471-89e5d6552cbe",
   "metadata": {},
   "outputs": [],
   "source": [
    "!libcamera-still -n -o $testimgpath"
   ]
  },
  {
   "cell_type": "code",
   "execution_count": null,
   "id": "0a22ff95-8e43-4bef-b9b5-9a9710aef97b",
   "metadata": {},
   "outputs": [],
   "source": []
  }
 ],
 "metadata": {
  "kernelspec": {
   "display_name": "Python 3 (ipykernel)",
   "language": "python",
   "name": "python3"
  },
  "language_info": {
   "codemirror_mode": {
    "name": "ipython",
    "version": 3
   },
   "file_extension": ".py",
   "mimetype": "text/x-python",
   "name": "python",
   "nbconvert_exporter": "python",
   "pygments_lexer": "ipython3",
   "version": "3.11.1"
  }
 },
 "nbformat": 4,
 "nbformat_minor": 5
}
