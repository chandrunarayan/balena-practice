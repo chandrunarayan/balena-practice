{
 "cells": [
  {
   "cell_type": "code",
   "execution_count": 1,
   "id": "88e6cdeb-ce6a-4388-8ec8-191b96ca9465",
   "metadata": {},
   "outputs": [
    {
     "name": "stdout",
     "output_type": "stream",
     "text": [
      "python testimage filepath = /data/testimg_03022023193924.jpg\n",
      "os testimage filepath = $/data/testimg_03022023193924.jpg\n"
     ]
    }
   ],
   "source": [
    "from datetime import datetime\n",
    "import os\n",
    "# datetime object containing current date and time\n",
    "now = datetime.now()\n",
    "#thisdate = today.strftime(\"%b-%d-%Y-%hr-%M\")\n",
    "thisdate = now.strftime(\"%d%m%Y%H%M%S\")\n",
    "testimgpath = f'/data/testimg_{thisdate}.jpg'\n",
    "print(f'python testimage filepath = {testimgpath}')\n",
    "os.environ['testimgpath'] = testimgpath\n",
    "!echo \"os testimage filepath = ${testimgpath}\""
   ]
  },
  {
   "cell_type": "code",
   "execution_count": 2,
   "id": "7a45e806-3961-44e9-9177-0f6ebaea5c2c",
   "metadata": {},
   "outputs": [
    {
     "name": "stdout",
     "output_type": "stream",
     "text": [
      "[0:56:57.197034031] [414]  INFO Camera camera_manager.cpp:293 libcamera v0.0.0+3406-e96d0201\n",
      "[0:56:57.245953720] [415]  WARN RPI raspberrypi.cpp:1211 Mismatch between Unicam and CamHelper for embedded data usage!\n",
      "[0:56:57.247079496] [415]  INFO RPI raspberrypi.cpp:1326 Registered camera /base/soc/i2c0mux/i2c@1/imx219@10 to Unicam device /dev/media1 and ISP device /dev/media0\n",
      "Available cameras\n",
      "-----------------\n",
      "0 : imx219 [3280x2464] (/base/soc/i2c0mux/i2c@1/imx219@10)\n",
      "    Modes: 'SRGGB10_CSI2P' : 640x480 1640x1232 1920x1080 3280x2464 \n",
      "           'SRGGB8' : 640x480 1640x1232 1920x1080 3280x2464 \n"
     ]
    }
   ],
   "source": [
    "!libcamera-hello --nopreview --list-cameras"
   ]
  },
  {
   "cell_type": "code",
   "execution_count": 3,
   "id": "75737616-3780-4642-8471-89e5d6552cbe",
   "metadata": {},
   "outputs": [
    {
     "name": "stdout",
     "output_type": "stream",
     "text": [
      "[0:56:59.305951311] [419]  INFO Camera camera_manager.cpp:293 libcamera v0.0.0+3406-e96d0201\n",
      "[0:56:59.351105514] [420]  WARN RPI raspberrypi.cpp:1211 Mismatch between Unicam and CamHelper for embedded data usage!\n",
      "[0:56:59.352309177] [420]  INFO RPI raspberrypi.cpp:1326 Registered camera /base/soc/i2c0mux/i2c@1/imx219@10 to Unicam device /dev/media1 and ISP device /dev/media0\n",
      "[0:56:59.353221567] [419]  INFO Camera camera.cpp:1028 configuring streams: (0) 1640x1232-YUV420\n",
      "[0:56:59.353571931] [420]  INFO RPI raspberrypi.cpp:747 Sensor: /base/soc/i2c0mux/i2c@1/imx219@10 - Selected sensor format: 1640x1232-SBGGR10_1X10 - Selected unicam format: 1640x1232-pBAA\n",
      "[0:56:59.377893426] [425]  INFO IPARPI raspberrypi.cpp:626 Request ctrl: Sharpness = 1.000000\n",
      "[0:56:59.378010072] [425]  INFO IPARPI raspberrypi.cpp:626 Request ctrl: Saturation = 1.000000\n",
      "[0:56:59.378046386] [425]  INFO IPARPI raspberrypi.cpp:626 Request ctrl: Contrast = 1.000000\n",
      "[0:56:59.378085330] [425]  INFO IPARPI raspberrypi.cpp:626 Request ctrl: Brightness = 0.000000\n",
      "[0:56:59.378120274] [425]  INFO IPARPI raspberrypi.cpp:626 Request ctrl: FrameDurationLimits = [ 33333, 33333 ]\n",
      "[0:56:59.378159421] [425]  INFO IPARPI raspberrypi.cpp:626 Request ctrl: NoiseReductionMode = 3\n",
      "[0:56:59.378193235] [425]  INFO IPARPI raspberrypi.cpp:626 Request ctrl: AeMeteringMode = 0\n",
      "[0:56:59.378227975] [425]  INFO IPARPI raspberrypi.cpp:626 Request ctrl: AeExposureMode = 0\n",
      "[0:56:59.378260882] [425]  INFO IPARPI raspberrypi.cpp:626 Request ctrl: ExposureValue = 0.000000\n",
      "[0:56:59.378316622] [425]  INFO IPARPI raspberrypi.cpp:626 Request ctrl: AwbMode = 0\n",
      "[0:57:04.515072001] [419]  INFO Camera camera.cpp:1028 configuring streams: (0) 3280x2464-YUV420 (1) 3280x2464-SBGGR10_CSI2P\n",
      "[0:57:04.515562621] [420]  INFO RPI raspberrypi.cpp:747 Sensor: /base/soc/i2c0mux/i2c@1/imx219@10 - Selected sensor format: 3280x2464-SBGGR10_1X10 - Selected unicam format: 3280x2464-pBAA\n",
      "[0:57:04.573566568] [429]  INFO IPARPI raspberrypi.cpp:626 Request ctrl: Sharpness = 1.000000\n",
      "[0:57:04.573865804] [429]  INFO IPARPI raspberrypi.cpp:626 Request ctrl: Saturation = 1.000000\n",
      "[0:57:04.573911303] [429]  INFO IPARPI raspberrypi.cpp:626 Request ctrl: Contrast = 1.000000\n",
      "[0:57:04.573948746] [429]  INFO IPARPI raspberrypi.cpp:626 Request ctrl: Brightness = 0.000000\n",
      "[0:57:04.573982764] [429]  INFO IPARPI raspberrypi.cpp:626 Request ctrl: FrameDurationLimits = [ 100, 1000000000 ]\n",
      "[0:57:04.574189112] [429]  INFO IPARPI raspberrypi.cpp:626 Request ctrl: NoiseReductionMode = 2\n",
      "[0:57:04.574223075] [429]  INFO IPARPI raspberrypi.cpp:626 Request ctrl: AeMeteringMode = 0\n",
      "[0:57:04.574259296] [429]  INFO IPARPI raspberrypi.cpp:626 Request ctrl: AeExposureMode = 0\n",
      "[0:57:04.574418886] [429]  INFO IPARPI raspberrypi.cpp:626 Request ctrl: ExposureValue = 0.000000\n",
      "[0:57:04.574458459] [429]  INFO IPARPI raspberrypi.cpp:626 Request ctrl: AwbMode = 0\n",
      "Still capture image received\n"
     ]
    }
   ],
   "source": [
    "!libcamera-still -n -o $testimgpath"
   ]
  },
  {
   "cell_type": "code",
   "execution_count": null,
   "id": "0a22ff95-8e43-4bef-b9b5-9a9710aef97b",
   "metadata": {},
   "outputs": [],
   "source": []
  }
 ],
 "metadata": {
  "kernelspec": {
   "display_name": "Python 3 (ipykernel)",
   "language": "python",
   "name": "python3"
  },
  "language_info": {
   "codemirror_mode": {
    "name": "ipython",
    "version": 3
   },
   "file_extension": ".py",
   "mimetype": "text/x-python",
   "name": "python",
   "nbconvert_exporter": "python",
   "pygments_lexer": "ipython3",
   "version": "3.11.1"
  }
 },
 "nbformat": 4,
 "nbformat_minor": 5
}
